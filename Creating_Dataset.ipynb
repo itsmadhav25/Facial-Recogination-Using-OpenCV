{
 "cells": [
  {
   "cell_type": "code",
   "execution_count": 1,
   "metadata": {},
   "outputs": [],
   "source": [
    "# Creating dataset\n",
    "# It captures images and stores them in datasets folder under the folder name of sub_data\n",
    "\n",
    "import cv2, sys, numpy, os\n",
    "haar_file = 'haarcascade_frontalface_.xml'\n",
    "\n",
    "# All the faces data will be present this folder\n",
    "\n",
    "datasets = 'datasets'\n",
    "\n",
    "\n",
    "# These are sub datasets of folder,for my faces I've used my name you can change the label here \n",
    "\n",
    "sub_data = 'Madhvendra'\n",
    "\n",
    "path = os.path.join(datasets, sub_data)\n",
    "if not os.path.isdir(path):\n",
    "\tos.mkdir(path)\n",
    "\n",
    "# defining the size of images\n",
    "(width, height) = (130, 100)\n",
    "\n",
    "#'0' is used for my webcam,\n",
    "# if you've any other camera\n",
    "# attached use '1' like this\n",
    "face_cascade = cv2.CascadeClassifier(haar_file)\n",
    "webcam = cv2.VideoCapture(0)\n",
    "\n",
    "# The program loops until it has 100 images of the face.\n",
    "count = 1\n",
    "while count < 100:\n",
    "\t(_, im) = webcam.read()\n",
    "\tgray = cv2.cvtColor(im, cv2.COLOR_BGR2GRAY)\n",
    "\tfaces = face_cascade.detectMultiScale(gray, 1.3, 4)\n",
    "\tfor (x, y, w, h) in faces:\n",
    "\t\tcv2.rectangle(im, (x, y), (x + w, y + h), (255, 0, 0), 2)\n",
    "\t\tface = gray[y:y + h, x:x + w]\n",
    "\t\tface_resize = cv2.resize(face, (width, height))\n",
    "\t\tcv2.imwrite('% s/% s.png' % (path, count), face_resize)\n",
    "\tcount += 1\n",
    "\n",
    "\tcv2.imshow('OpenCV', im)\n",
    "\tkey = cv2.waitKey(10)\n",
    "\tif cv2.waitKey(1) & 0xFF == ord('q'):\n",
    "\t\tbreak\n"
   ]
  },
  {
   "cell_type": "code",
   "execution_count": null,
   "metadata": {},
   "outputs": [],
   "source": []
  }
 ],
 "metadata": {
  "kernelspec": {
   "display_name": "Python 3",
   "language": "python",
   "name": "python3"
  },
  "language_info": {
   "codemirror_mode": {
    "name": "ipython",
    "version": 3
   },
   "file_extension": ".py",
   "mimetype": "text/x-python",
   "name": "python",
   "nbconvert_exporter": "python",
   "pygments_lexer": "ipython3",
   "version": "3.8.5"
  }
 },
 "nbformat": 4,
 "nbformat_minor": 2
}
